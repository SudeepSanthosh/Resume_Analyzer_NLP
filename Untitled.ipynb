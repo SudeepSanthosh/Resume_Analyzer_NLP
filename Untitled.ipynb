{
 "cells": [
  {
   "cell_type": "code",
   "execution_count": 5,
   "metadata": {},
   "outputs": [
    {
     "name": "stdout",
     "output_type": "stream",
     "text": [
      "Collecting pycaret\n",
      "  Using cached pycaret-3.0.2-py3-none-any.whl (483 kB)\n",
      "Collecting xxhash\n",
      "  Using cached xxhash-3.2.0-cp38-cp38-win_amd64.whl (30 kB)\n",
      "Requirement already satisfied: ipython>=5.5.0 in c:\\users\\91973\\anaconda3\\lib\\site-packages (from pycaret) (7.19.0)\n",
      "Requirement already satisfied: requests>=2.27.1 in c:\\users\\91973\\anaconda3\\lib\\site-packages (from pycaret) (2.31.0)\n",
      "Collecting pmdarima!=1.8.1,<3.0.0,>=1.8.0\n",
      "  Using cached pmdarima-2.0.3-cp38-cp38-win_amd64.whl (572 kB)\n",
      "Collecting numba>=0.55.0\n",
      "  Using cached numba-0.57.1-cp38-cp38-win_amd64.whl (2.6 MB)\n",
      "Requirement already satisfied: joblib>=1.2.0 in c:\\users\\91973\\anaconda3\\lib\\site-packages (from pycaret) (1.2.0)\n",
      "Requirement already satisfied: plotly-resampler>=0.8.3.1 in c:\\users\\91973\\anaconda3\\lib\\site-packages (from pycaret) (0.8.3.2)\n",
      "Collecting tqdm>=4.62.0\n",
      "  Using cached tqdm-4.65.0-py3-none-any.whl (77 kB)\n",
      "Requirement already satisfied: scipy<2.0.0 in c:\\users\\91973\\anaconda3\\lib\\site-packages (from pycaret) (1.5.2)\n",
      "Requirement already satisfied: imbalanced-learn>=0.8.1 in c:\\users\\91973\\anaconda3\\lib\\site-packages (from pycaret) (0.10.1)\n",
      "Requirement already satisfied: nbformat>=4.2.0 in c:\\users\\91973\\anaconda3\\lib\\site-packages (from pycaret) (5.0.8)\n",
      "Requirement already satisfied: numpy<1.24,>=1.21 in c:\\users\\91973\\anaconda3\\lib\\site-packages (from pycaret) (1.23.5)\n",
      "Requirement already satisfied: scikit-plot>=0.3.7 in c:\\users\\91973\\anaconda3\\lib\\site-packages (from pycaret) (0.3.7)\n",
      "Collecting ipywidgets>=7.6.5\n",
      "  Using cached ipywidgets-8.0.6-py3-none-any.whl (138 kB)\n",
      "Collecting lightgbm>=3.0.0\n",
      "  Using cached lightgbm-3.3.5-py3-none-win_amd64.whl (1.0 MB)\n",
      "Requirement already satisfied: plotly>=5.0.0 in c:\\users\\91973\\anaconda3\\lib\\site-packages (from pycaret) (5.15.0)\n",
      "Requirement already satisfied: psutil>=5.9.0 in c:\\users\\91973\\anaconda3\\lib\\site-packages (from pycaret) (5.9.5)\n",
      "Processing c:\\users\\91973\\appdata\\local\\pip\\cache\\wheels\\1a\\ec\\04\\08882538e197056f24532d6b7a00fd18e9c34d7c44faf3cd0c\\pyod-1.0.9-py3-none-any.whl\n",
      "Collecting importlib-metadata>=4.12.0\n",
      "  Using cached importlib_metadata-6.7.0-py3-none-any.whl (22 kB)\n",
      "Requirement already satisfied: deprecation>=2.1.0 in c:\\users\\91973\\anaconda3\\lib\\site-packages (from pycaret) (2.1.0)\n",
      "Collecting sktime!=0.17.1,<0.17.2,>=0.16.1\n",
      "  Using cached sktime-0.17.0-py3-none-any.whl (16.1 MB)\n",
      "Requirement already satisfied: scikit-learn>=1.0 in c:\\users\\91973\\anaconda3\\lib\\site-packages (from pycaret) (1.2.2)\n",
      "Requirement already satisfied: statsmodels>=0.12.1 in c:\\users\\91973\\anaconda3\\lib\\site-packages (from pycaret) (0.14.0)\n",
      "Requirement already satisfied: matplotlib>=3.3.0 in c:\\users\\91973\\anaconda3\\lib\\site-packages (from pycaret) (3.3.2)\n",
      "Collecting tbats>=1.1.3\n",
      "  Using cached tbats-1.1.3-py3-none-any.whl (44 kB)\n",
      "Requirement already satisfied: pandas<2.0.0,>=1.3.0 in c:\\users\\91973\\anaconda3\\lib\\site-packages (from pycaret) (1.5.3)\n",
      "Collecting schemdraw==0.15\n",
      "  Using cached schemdraw-0.15-py3-none-any.whl (106 kB)\n",
      "Requirement already satisfied: markupsafe>=2.0.1 in c:\\users\\91973\\anaconda3\\lib\\site-packages (from pycaret) (2.1.3)\n",
      "Requirement already satisfied: cloudpickle in c:\\users\\91973\\anaconda3\\lib\\site-packages (from pycaret) (1.6.0)\n",
      "Requirement already satisfied: kaleido>=0.2.1 in c:\\users\\91973\\anaconda3\\lib\\site-packages (from pycaret) (0.2.1)\n",
      "Requirement already satisfied: jinja2>=1.2 in c:\\users\\91973\\anaconda3\\lib\\site-packages (from pycaret) (2.11.2)\n",
      "Collecting category-encoders>=2.4.0\n",
      "  Using cached category_encoders-2.6.1-py2.py3-none-any.whl (81 kB)\n",
      "Requirement already satisfied: yellowbrick>=1.4 in c:\\users\\91973\\anaconda3\\lib\\site-packages (from pycaret) (1.5)\n",
      "Requirement already satisfied: setuptools>=18.5 in c:\\users\\91973\\anaconda3\\lib\\site-packages (from ipython>=5.5.0->pycaret) (50.3.1.post20201107)\n",
      "Requirement already satisfied: prompt-toolkit!=3.0.0,!=3.0.1,<3.1.0,>=2.0.0 in c:\\users\\91973\\anaconda3\\lib\\site-packages (from ipython>=5.5.0->pycaret) (3.0.8)\n",
      "Requirement already satisfied: jedi>=0.10 in c:\\users\\91973\\anaconda3\\lib\\site-packages (from ipython>=5.5.0->pycaret) (0.17.1)\n",
      "Requirement already satisfied: colorama; sys_platform == \"win32\" in c:\\users\\91973\\anaconda3\\lib\\site-packages (from ipython>=5.5.0->pycaret) (0.4.4)\n",
      "Requirement already satisfied: pygments in c:\\users\\91973\\anaconda3\\lib\\site-packages (from ipython>=5.5.0->pycaret) (2.7.2)\n",
      "Requirement already satisfied: pickleshare in c:\\users\\91973\\anaconda3\\lib\\site-packages (from ipython>=5.5.0->pycaret) (0.7.5)\n",
      "Requirement already satisfied: backcall in c:\\users\\91973\\anaconda3\\lib\\site-packages (from ipython>=5.5.0->pycaret) (0.2.0)\n",
      "Requirement already satisfied: traitlets>=4.2 in c:\\users\\91973\\anaconda3\\lib\\site-packages (from ipython>=5.5.0->pycaret) (5.0.5)\n",
      "Requirement already satisfied: decorator in c:\\users\\91973\\anaconda3\\lib\\site-packages (from ipython>=5.5.0->pycaret) (4.4.2)\n",
      "Requirement already satisfied: urllib3<3,>=1.21.1 in c:\\users\\91973\\anaconda3\\lib\\site-packages (from requests>=2.27.1->pycaret) (1.25.11)\n",
      "Requirement already satisfied: idna<4,>=2.5 in c:\\users\\91973\\anaconda3\\lib\\site-packages (from requests>=2.27.1->pycaret) (2.10)\n",
      "Requirement already satisfied: certifi>=2017.4.17 in c:\\users\\91973\\anaconda3\\lib\\site-packages (from requests>=2.27.1->pycaret) (2020.6.20)\n",
      "Requirement already satisfied: charset-normalizer<4,>=2 in c:\\users\\91973\\anaconda3\\lib\\site-packages (from requests>=2.27.1->pycaret) (3.1.0)\n",
      "Requirement already satisfied: Cython!=0.29.18,!=0.29.31,>=0.29 in c:\\users\\91973\\anaconda3\\lib\\site-packages (from pmdarima!=1.8.1,<3.0.0,>=1.8.0->pycaret) (0.29.21)\n",
      "Collecting llvmlite<0.41,>=0.40.0dev0\n",
      "  Using cached llvmlite-0.40.1-cp38-cp38-win_amd64.whl (27.7 MB)\n",
      "Requirement already satisfied: jupyter-dash>=0.4.2 in c:\\users\\91973\\anaconda3\\lib\\site-packages (from plotly-resampler>=0.8.3.1->pycaret) (0.4.2)\n",
      "Requirement already satisfied: dash<3.0.0,>=2.2.0 in c:\\users\\91973\\anaconda3\\lib\\site-packages (from plotly-resampler>=0.8.3.1->pycaret) (2.10.2)\n",
      "Requirement already satisfied: trace-updater>=0.0.8 in c:\\users\\91973\\anaconda3\\lib\\site-packages (from plotly-resampler>=0.8.3.1->pycaret) (0.0.9.1)\n",
      "Requirement already satisfied: orjson<4.0.0,>=3.8.0 in c:\\users\\91973\\anaconda3\\lib\\site-packages (from plotly-resampler>=0.8.3.1->pycaret) (3.9.1)\n",
      "Requirement already satisfied: threadpoolctl>=2.0.0 in c:\\users\\91973\\anaconda3\\lib\\site-packages (from imbalanced-learn>=0.8.1->pycaret) (2.1.0)\n",
      "Requirement already satisfied: jupyter-core in c:\\users\\91973\\anaconda3\\lib\\site-packages (from nbformat>=4.2.0->pycaret) (4.6.3)\n",
      "Requirement already satisfied: jsonschema!=2.5.0,>=2.4 in c:\\users\\91973\\anaconda3\\lib\\site-packages (from nbformat>=4.2.0->pycaret) (3.2.0)\n",
      "Requirement already satisfied: ipython-genutils in c:\\users\\91973\\anaconda3\\lib\\site-packages (from nbformat>=4.2.0->pycaret) (0.2.0)\n",
      "Requirement already satisfied: ipykernel>=4.5.1 in c:\\users\\91973\\anaconda3\\lib\\site-packages (from ipywidgets>=7.6.5->pycaret) (5.3.4)\n",
      "Collecting jupyterlab-widgets~=3.0.7\n",
      "  Using cached jupyterlab_widgets-3.0.7-py3-none-any.whl (198 kB)\n",
      "Collecting widgetsnbextension~=4.0.7\n",
      "  Using cached widgetsnbextension-4.0.7-py3-none-any.whl (2.1 MB)\n",
      "Requirement already satisfied: wheel in c:\\users\\91973\\anaconda3\\lib\\site-packages (from lightgbm>=3.0.0->pycaret) (0.35.1)\n",
      "Requirement already satisfied: packaging in c:\\users\\91973\\anaconda3\\lib\\site-packages (from plotly>=5.0.0->pycaret) (23.1)\n",
      "Requirement already satisfied: tenacity>=6.2.0 in c:\\users\\91973\\anaconda3\\lib\\site-packages (from plotly>=5.0.0->pycaret) (8.2.2)\n",
      "Requirement already satisfied: six in c:\\users\\91973\\anaconda3\\lib\\site-packages (from pyod>=1.0.8->pycaret) (1.15.0)\n",
      "Requirement already satisfied: zipp>=0.5 in c:\\users\\91973\\anaconda3\\lib\\site-packages (from importlib-metadata>=4.12.0->pycaret) (3.4.0)\n",
      "Collecting deprecated>=1.2.13\n",
      "  Using cached Deprecated-1.2.14-py2.py3-none-any.whl (9.6 kB)\n",
      "Requirement already satisfied: patsy>=0.5.2 in c:\\users\\91973\\anaconda3\\lib\\site-packages (from statsmodels>=0.12.1->pycaret) (0.5.3)\n",
      "Requirement already satisfied: kiwisolver>=1.0.1 in c:\\users\\91973\\anaconda3\\lib\\site-packages (from matplotlib>=3.3.0->pycaret) (1.3.0)\n",
      "Requirement already satisfied: cycler>=0.10 in c:\\users\\91973\\anaconda3\\lib\\site-packages (from matplotlib>=3.3.0->pycaret) (0.10.0)\n",
      "Requirement already satisfied: pyparsing!=2.0.4,!=2.1.2,!=2.1.6,>=2.0.3 in c:\\users\\91973\\anaconda3\\lib\\site-packages (from matplotlib>=3.3.0->pycaret) (2.4.7)\n",
      "Requirement already satisfied: pillow>=6.2.0 in c:\\users\\91973\\anaconda3\\lib\\site-packages (from matplotlib>=3.3.0->pycaret) (8.0.1)\n",
      "Requirement already satisfied: python-dateutil>=2.1 in c:\\users\\91973\\anaconda3\\lib\\site-packages (from matplotlib>=3.3.0->pycaret) (2.8.1)\n",
      "Requirement already satisfied: pytz>=2020.1 in c:\\users\\91973\\anaconda3\\lib\\site-packages (from pandas<2.0.0,>=1.3.0->pycaret) (2020.1)\n",
      "Requirement already satisfied: wcwidth in c:\\users\\91973\\anaconda3\\lib\\site-packages (from prompt-toolkit!=3.0.0,!=3.0.1,<3.1.0,>=2.0.0->ipython>=5.5.0->pycaret) (0.2.5)\n",
      "Requirement already satisfied: parso<0.8.0,>=0.7.0 in c:\\users\\91973\\anaconda3\\lib\\site-packages (from jedi>=0.10->ipython>=5.5.0->pycaret) (0.7.0)\n",
      "Requirement already satisfied: nest-asyncio in c:\\users\\91973\\anaconda3\\lib\\site-packages (from jupyter-dash>=0.4.2->plotly-resampler>=0.8.3.1->pycaret) (1.4.2)\n",
      "Requirement already satisfied: flask in c:\\users\\91973\\anaconda3\\lib\\site-packages (from jupyter-dash>=0.4.2->plotly-resampler>=0.8.3.1->pycaret) (1.1.2)\n",
      "Requirement already satisfied: retrying in c:\\users\\91973\\anaconda3\\lib\\site-packages (from jupyter-dash>=0.4.2->plotly-resampler>=0.8.3.1->pycaret) (1.3.4)\n",
      "Requirement already satisfied: ansi2html in c:\\users\\91973\\anaconda3\\lib\\site-packages (from jupyter-dash>=0.4.2->plotly-resampler>=0.8.3.1->pycaret) (1.8.0)\n",
      "Requirement already satisfied: dash-html-components==2.0.0 in c:\\users\\91973\\anaconda3\\lib\\site-packages (from dash<3.0.0,>=2.2.0->plotly-resampler>=0.8.3.1->pycaret) (2.0.0)\n",
      "Requirement already satisfied: dash-core-components==2.0.0 in c:\\users\\91973\\anaconda3\\lib\\site-packages (from dash<3.0.0,>=2.2.0->plotly-resampler>=0.8.3.1->pycaret) (2.0.0)\n",
      "Requirement already satisfied: dash-table==5.0.0 in c:\\users\\91973\\anaconda3\\lib\\site-packages (from dash<3.0.0,>=2.2.0->plotly-resampler>=0.8.3.1->pycaret) (5.0.0)\n",
      "Requirement already satisfied: Werkzeug<2.3.0 in c:\\users\\91973\\anaconda3\\lib\\site-packages (from dash<3.0.0,>=2.2.0->plotly-resampler>=0.8.3.1->pycaret) (1.0.1)\n",
      "Requirement already satisfied: pywin32>=1.0; sys_platform == \"win32\" in c:\\users\\91973\\anaconda3\\lib\\site-packages (from jupyter-core->nbformat>=4.2.0->pycaret) (227)\n",
      "Requirement already satisfied: attrs>=17.4.0 in c:\\users\\91973\\anaconda3\\lib\\site-packages (from jsonschema!=2.5.0,>=2.4->nbformat>=4.2.0->pycaret) (20.3.0)"
     ]
    },
    {
     "name": "stderr",
     "output_type": "stream",
     "text": [
      "ERROR: Cannot uninstall 'llvmlite'. It is a distutils installed project and thus we cannot accurately determine which files belong to it which would lead to only a partial uninstall.\n"
     ]
    },
    {
     "name": "stdout",
     "output_type": "stream",
     "text": [
      "\n",
      "Requirement already satisfied: pyrsistent>=0.14.0 in c:\\users\\91973\\anaconda3\\lib\\site-packages (from jsonschema!=2.5.0,>=2.4->nbformat>=4.2.0->pycaret) (0.17.3)\n",
      "Requirement already satisfied: tornado>=4.2 in c:\\users\\91973\\anaconda3\\lib\\site-packages (from ipykernel>=4.5.1->ipywidgets>=7.6.5->pycaret) (6.0.4)\n",
      "Requirement already satisfied: jupyter-client in c:\\users\\91973\\anaconda3\\lib\\site-packages (from ipykernel>=4.5.1->ipywidgets>=7.6.5->pycaret) (6.1.7)\n",
      "Requirement already satisfied: wrapt<2,>=1.10 in c:\\users\\91973\\anaconda3\\lib\\site-packages (from deprecated>=1.2.13->sktime!=0.17.1,<0.17.2,>=0.16.1->pycaret) (1.11.2)\n",
      "Requirement already satisfied: click>=5.1 in c:\\users\\91973\\anaconda3\\lib\\site-packages (from flask->jupyter-dash>=0.4.2->plotly-resampler>=0.8.3.1->pycaret) (7.1.2)\n",
      "Requirement already satisfied: itsdangerous>=0.24 in c:\\users\\91973\\anaconda3\\lib\\site-packages (from flask->jupyter-dash>=0.4.2->plotly-resampler>=0.8.3.1->pycaret) (1.1.0)\n",
      "Requirement already satisfied: pyzmq>=13 in c:\\users\\91973\\anaconda3\\lib\\site-packages (from jupyter-client->ipykernel>=4.5.1->ipywidgets>=7.6.5->pycaret) (19.0.2)\n",
      "Installing collected packages: xxhash, pmdarima, llvmlite, importlib-metadata, numba, tqdm, jupyterlab-widgets, widgetsnbextension, ipywidgets, lightgbm, pyod, deprecated, sktime, tbats, schemdraw, category-encoders, pycaret\n",
      "  Attempting uninstall: llvmlite\n",
      "    Found existing installation: llvmlite 0.34.0\n"
     ]
    }
   ],
   "source": [
    "!pip install pycaret"
   ]
  },
  {
   "cell_type": "code",
   "execution_count": 7,
   "metadata": {},
   "outputs": [
    {
     "ename": "ModuleNotFoundError",
     "evalue": "No module named 'pycaret'",
     "output_type": "error",
     "traceback": [
      "\u001b[1;31m---------------------------------------------------------------------------\u001b[0m",
      "\u001b[1;31mModuleNotFoundError\u001b[0m                       Traceback (most recent call last)",
      "\u001b[1;32m<ipython-input-7-a8cb12878b37>\u001b[0m in \u001b[0;36m<module>\u001b[1;34m\u001b[0m\n\u001b[1;32m----> 1\u001b[1;33m \u001b[1;32mfrom\u001b[0m \u001b[0mpycaret\u001b[0m\u001b[1;33m.\u001b[0m\u001b[0mclassification\u001b[0m \u001b[1;32mimport\u001b[0m \u001b[1;33m*\u001b[0m\u001b[1;33m\u001b[0m\u001b[1;33m\u001b[0m\u001b[0m\n\u001b[0m",
      "\u001b[1;31mModuleNotFoundError\u001b[0m: No module named 'pycaret'"
     ]
    }
   ],
   "source": [
    "from pycaret.classification import *"
   ]
  },
  {
   "cell_type": "code",
   "execution_count": 6,
   "metadata": {},
   "outputs": [
    {
     "ename": "NameError",
     "evalue": "name 'sdp' is not defined",
     "output_type": "error",
     "traceback": [
      "\u001b[1;31m---------------------------------------------------------------------------\u001b[0m",
      "\u001b[1;31mNameError\u001b[0m                                 Traceback (most recent call last)",
      "\u001b[1;32m<ipython-input-6-ad91dbb8bfba>\u001b[0m in \u001b[0;36m<module>\u001b[1;34m\u001b[0m\n\u001b[1;32m----> 1\u001b[1;33m \u001b[0mprint\u001b[0m\u001b[1;33m(\u001b[0m\u001b[0msdp\u001b[0m\u001b[1;33m)\u001b[0m\u001b[1;33m\u001b[0m\u001b[1;33m\u001b[0m\u001b[0m\n\u001b[0m",
      "\u001b[1;31mNameError\u001b[0m: name 'sdp' is not defined"
     ]
    }
   ],
   "source": [
    "print(sdp)"
   ]
  },
  {
   "cell_type": "code",
   "execution_count": null,
   "metadata": {},
   "outputs": [],
   "source": []
  }
 ],
 "metadata": {
  "kernelspec": {
   "display_name": "Python 3",
   "language": "python",
   "name": "python3"
  }
 },
 "nbformat": 4,
 "nbformat_minor": 4
}
